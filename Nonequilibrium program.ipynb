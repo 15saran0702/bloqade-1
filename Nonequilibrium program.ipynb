{
 "cells": [
  {
   "cell_type": "code",
   "execution_count": 1,
   "id": "3c6f609f-7277-4071-8ccd-fb0467c0690b",
   "metadata": {},
   "outputs": [],
   "source": [
    "from bloqade import save, load \n",
    "from bloqade.atom_arrangement import Chain \n",
    "import numpy as np \n",
    "import matplotlib.pyplot as plt \n",
    "import os \n",
    "if not os.path.isdir(\"data\"): \n",
    "    os.mkdir(\"data\")"
   ]
  },
  {
   "cell_type": "code",
   "execution_count": null,
   "id": "824a4138-e54b-4ae8-a85c-b247c7a15296",
   "metadata": {},
   "outputs": [],
   "source": [
    "initial_geometry = Chain(2, lattice_spacing=\"distance\")\n",
    "program_waveforms = initial_geometry.rydberg.rabi.amplitude.uniform.piecewise_linear(\n",
    "    durations=[\"ramp_time\", \"run_time\", \"ramp_time\"],\n",
    "    values=[0.0, \"rabi_ampl\", \"rabi_ampl\", 0.0],\n",
    ")\n",
    "program_assigned_vars = program_waveforms.assign(\n",
    "    ramp_time=0.06, rabi_ampl=15, distance=8.5\n",
    ")\n",
    "batch = program_assigned_vars.batch_assign(run_time=0.05 * np.arange(31))"
   ]
  },
  {
   "cell_type": "code",
   "execution_count": null,
   "id": "5ed86006-1a30-454e-adca-afa7bcb94286",
   "metadata": {},
   "outputs": [],
   "source": [
    "emu_filename = os.path.join(\n",
    "    os.path.abspath(\"\"), \"data\", \"nonequilibrium-dynamics-blockade-emulation.json\"\n",
    ")\n",
    "if not os.path.isfile(emu_filename):\n",
    "    emu_batch = batch.braket.local_emulator().run(10000)\n",
    "    save(emu_batch, emu_filename)"
   ]
  },
  {
   "cell_type": "code",
   "execution_count": null,
   "id": "24733c30-a6ac-417a-9293-12a08bdaa47c",
   "metadata": {},
   "outputs": [],
   "source": [
    "filename = os.path.join(os.path.abspath(\"\"), \"data\", \"nonequilibrium-dynamics-blockade-job.json\")\n",
    "\n",
    "if not os.path.isfile(filename):\n",
    "    hardware_batch = batch.parallelize(24).braket.aquila().run_async(shots=100)\n",
    "    save(hardware_batch, filename)"
   ]
  },
  {
   "cell_type": "code",
   "execution_count": null,
   "id": "ae939c29-3469-45a4-a95a-501728d0ee94",
   "metadata": {},
   "outputs": [],
   "source": [
    "def rydberg_state_probabilities(shot_counts):\n",
    "    probabilities_dict = {\"0\": [], \"1\": [], \"2\": []}\n",
    "\n",
    "    # iterate over each of the task results\n",
    "    for task_result in shot_counts:\n",
    "        # get total number of shots\n",
    "        total_shots = sum(task_result.values())\n",
    "        # get probability of each state\n",
    "        probabilities_dict[\"0\"].append(task_result.get(\"11\", 0) / total_shots)\n",
    "        probabilities_dict[\"1\"].append(\n",
    "            (task_result.get(\"10\", 0) + task_result.get(\"01\", 0)) / total_shots\n",
    "        )\n",
    "        probabilities_dict[\"2\"].append(task_result.get(\"00\", 0) / total_shots)\n",
    "\n",
    "    return probabilities_dict"
   ]
  },
  {
   "cell_type": "code",
   "execution_count": null,
   "id": "9dbc6a61-6a01-43b7-8495-a62d2978dc25",
   "metadata": {},
   "outputs": [],
   "source": [
    "emu_batch = load(emu_filename)\n",
    "emu_report = emu_batch.report()\n",
    "emu_counts = emu_report.counts()\n",
    "\n",
    "#hardware_batch = load(filename)\n",
    "# hardware_batch.fetch() # uncomment to fetch results from Braket\n",
    "# save(filename, hardware_batch"
   ]
  },
  {
   "cell_type": "code",
   "execution_count": null,
   "id": "2ffc2f0c-c208-485e-ad9d-22c028bc4e1b",
   "metadata": {},
   "outputs": [],
   "source": [
    "emu_report = emu_batch.report()\n",
    "hardware_report = hardware_batch.report()\n",
    "\n",
    "\n",
    "emu_rydberg_state_probabilities = rydberg_state_probabilities(emu_report.counts())\n",
    "#hw_rydberg_state_probabilities = rydberg_state_probabilities(hardware_report.counts())"
   ]
  },
  {
   "cell_type": "code",
   "execution_count": null,
   "id": "cb3f5673-aef4-40fe-904c-265980018ae0",
   "metadata": {},
   "outputs": [],
   "source": [
    "figure, axs = plt.subplots(1, 3, figsize=(12, 6), sharey=True)\n",
    "\n",
    "emu_run_times = emu_report.list_param(\"run_time\")\n",
    "#hardware_run_times = hardware_report.list_param(\"run_time\")\n",
    "\n",
    "emu_colors = [\"#55DE79\", \"#EDFF1A\", \"#C2477F\"]  # Green, Yellow, Red\n",
    "\n",
    "emu_lines = []\n",
    "#hw_lines = []\n",
    "for ax, rydberg_state, color in zip(axs, [\"0\", \"1\", \"2\"], emu_colors):\n",
    "    (hw_line,) = ax.plot(\n",
    "        emu_run_times,\n",
    "        hw_rydberg_state_probabilities[rydberg_state],\n",
    "        label=rydberg_state + \"-Rydberg QPU\",\n",
    "        color=color,\n",
    "    )\n",
    "    (emu_line,) = ax.plot(\n",
    "        hardware_run_times,\n",
    "        emu_rydberg_state_probabilities[rydberg_state],\n",
    "        color=\"#878787\",\n",
    "    )\n",
    "    emu_line.set_label(\"Emulator\")\n",
    "\n",
    "    emu_lines.append(emu_line)\n",
    "    hw_lines.append(hw_line)\n",
    "\n",
    "    ax.set_xlabel(\"time ($\\mu s$)\")\n",
    "    ax.set_ylabel(\"Probability\")\n",
    "\n",
    "ax.legend(handles=[*hw_lines, emu_lines[-1]])\n",
    "\n",
    "plt.show()"
   ]
  }
 ],
 "metadata": {
  "kernelspec": {
   "display_name": "Python 3 (ipykernel)",
   "language": "python",
   "name": "python3"
  },
  "language_info": {
   "codemirror_mode": {
    "name": "ipython",
    "version": 3
   },
   "file_extension": ".py",
   "mimetype": "text/x-python",
   "name": "python",
   "nbconvert_exporter": "python",
   "pygments_lexer": "ipython3",
   "version": "3.11.6"
  }
 },
 "nbformat": 4,
 "nbformat_minor": 5
}
