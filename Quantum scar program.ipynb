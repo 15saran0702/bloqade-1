{
 "cells": [
  {
   "cell_type": "code",
   "execution_count": null,
   "id": "5554ac41-14f4-43fb-89e8-9e3be0b085bd",
   "metadata": {},
   "outputs": [],
   "source": [
    "from bloqade import var, save, load\n",
    "from bloqade.atom_arrangement import Chain\n",
    "import matplotlib.pyplot as plt\n",
    "import numpy as np\n",
    "import os\n",
    "\n",
    "if not os.path.isdir(\"data\"):\n",
    "    os.mkdir(\"data\")\n",
    "\n",
    "n_atoms = 11\n",
    "lattice_spacing = 6.1\n",
    "run_time = var(\"run_time\")\n",
    "\n",
    "quantum_scar_program = (\n",
    "    Chain(n_atoms, lattice_spacing=lattice_spacing)\n",
    "    # define detuning waveform\n",
    "    .rydberg.detuning.uniform.piecewise_linear(\n",
    "        [0.3, 1.6, 0.3], [-18.8, -18.8, 16.3, 16.3]\n",
    "    )\n",
    "    .piecewise_linear([0.2, 1.6], [16.3, 0.0, 0.0])\n",
    "    # slice the detuning waveform\n",
    "    .slice(start=0, stop=run_time)\n",
    "    # define rabi waveform\n",
    "    .amplitude.uniform.piecewise_linear([0.3, 1.6, 0.3], [0.0, 15.7, 15.7, 0.0])\n",
    "    .piecewise_linear([0.2, 1.4, 0.2], [0, 15.7, 15.7, 0])\n",
    "    # slice waveform, add padding for the linear segment\n",
    "    .slice(start=0, stop=run_time - 0.065)\n",
    "    # record the value of the waveform at the end of the slice to \"rabi_value\"\n",
    "    .record(\"rabi_value\")\n",
    "    # append segment to waveform that fixes the value of the waveform to 0\n",
    "    # at the end of the waveform\n",
    "    .linear(\"rabi_value\", 0, 0.065)\n",
    ")\n",
    "\n",
    "# get run times via the following:\n",
    "prep_times = np.arange(0.2, 2.2, 0.2)\n",
    "scar_times = np.arange(2.2, 4.01, 0.01)\n",
    "run_times = np.unique(np.hstack((prep_times, scar_times)))\n",
    "\n",
    "batch = quantum_scar_program.batch_assign(run_time=run_times)"
   ]
  },
  {
   "cell_type": "code",
   "execution_count": null,
   "id": "6ebd5dd1-e13a-46a1-b69c-6837c0a3e875",
   "metadata": {},
   "outputs": [],
   "source": [
    "emu_filename = os.path.join(\n",
    "    os.path.abspath(\"\"), \"data\", \"quantum-scar-dynamics-emulation.json\"\n",
    ")\n",
    "\n",
    "if not os.path.isfile(emu_filename):\n",
    "    emu_batch = batch.braket.local_emulator().run(100)\n",
    "    save(emu_batch, emu_filename)\n",
    "\n",
    "\n",
    "filename = os.path.join(os.path.abspath(\"\"), \"data\", \"quantum-scar-dynamics-job.json\")\n",
    "\n",
    "if not os.path.isfile(filename):\n",
    "    hardware_batch = (\n",
    "        batch.parallelize(24)\n",
    "        .braket.aquila()\n",
    "        .run_async(10, ignore_submission_error=True)\n",
    "    )\n",
    "    save(hardware_batch, filename)"
   ]
  },
  {
   "cell_type": "code",
   "execution_count": null,
   "id": "9493c69a-8f90-4ba1-92ef-780e1c2032df",
   "metadata": {},
   "outputs": [],
   "source": [
    "emu_batch = load(emu_filename)\n",
    "hardware_batch = load(filename)\n",
    "# hardware_batch.fetch()\n",
    "# save(hardware_batch, filename)"
   ]
  },
  {
   "cell_type": "code",
   "execution_count": null,
   "id": "74f185d0-e86b-438a-82c8-4e282f1ba3aa",
   "metadata": {},
   "outputs": [],
   "source": [
    "def get_z2_probabilities(report):\n",
    "    z2_probabilities = []\n",
    "\n",
    "    for count in report.counts():\n",
    "        z2_probability = count.get(\"01010101010\", 0) / sum(list(count.values()))\n",
    "        z2_probabilities.append(z2_probability)\n",
    "\n",
    "    return z2_probabilities"
   ]
  },
  {
   "cell_type": "code",
   "execution_count": null,
   "id": "94ee7e58-d2ed-4d49-946c-dfc769a783bd",
   "metadata": {},
   "outputs": [],
   "source": [
    "emu_report = emu_batch.report()\n",
    "hardware_report = hardware_batch.report()\n",
    "\n",
    "emu_run_times = emu_report.list_param(\"run_time\")\n",
    "emu_z2_prob = get_z2_probabilities(emu_report)\n",
    "\n",
    "hw_run_times = hardware_report.list_param(\"run_time\")\n",
    "hw_z2_prob = get_z2_probabilities(hardware_report)\n",
    "\n",
    "plt.plot(emu_run_times, emu_z2_prob, label=\"Emulator\", color=\"#878787\")\n",
    "plt.plot(hw_run_times, hw_z2_prob, label=\"QPU\", color=\"#6437FF\")\n",
    "\n",
    "plt.legend()\n",
    "plt.xlabel(\"Time ($\\mu s$)\")\n",
    "plt.ylabel(\"Z2-state Probability\")\n",
    "plt.show()"
   ]
  }
 ],
 "metadata": {
  "kernelspec": {
   "display_name": "Python 3 (ipykernel)",
   "language": "python",
   "name": "python3"
  },
  "language_info": {
   "codemirror_mode": {
    "name": "ipython",
    "version": 3
   },
   "file_extension": ".py",
   "mimetype": "text/x-python",
   "name": "python",
   "nbconvert_exporter": "python",
   "pygments_lexer": "ipython3",
   "version": "3.11.6"
  }
 },
 "nbformat": 4,
 "nbformat_minor": 5
}
