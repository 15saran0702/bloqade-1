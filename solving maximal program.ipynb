{
 "cells": [
  {
   "cell_type": "code",
   "execution_count": null,
   "id": "f7dc49b5-5f17-4dfe-8058-dda1617f4240",
   "metadata": {},
   "outputs": [],
   "source": [
    "from bloqade import load, save\n",
    "from bloqade.atom_arrangement import Square\n",
    "import numpy as np\n",
    "import os\n",
    "import matplotlib.pyplot as plt\n",
    "\n",
    "if not os.path.isdir(\"data\"):\n",
    "    os.mkdir(\"data\")\n",
    "\n",
    "# setting the seed\n",
    "rng = np.random.default_rng(1234)\n",
    "\n",
    "durations = [0.3, 1.6, 0.3]\n",
    "\n",
    "mis_udg_program = (\n",
    "    Square(15, lattice_spacing=5.0)\n",
    "    .apply_defect_density(0.3, rng=rng)\n",
    "    .rydberg.rabi.amplitude.uniform.piecewise_linear(durations, [0.0, 15.0, 15.0, 0.0])\n",
    "    .detuning.uniform.piecewise_linear(\n",
    "        durations, [-30, -30, \"final_detuning\", \"final_detuning\"]\n",
    "    )\n",
    ")\n",
    "\n",
    "mis_udg_job = mis_udg_program.batch_assign(final_detuning=np.linspace(0, 80, 41))"
   ]
  },
  {
   "cell_type": "code",
   "execution_count": null,
   "id": "904c0991-c8cb-4918-abdb-9b4035ab5a71",
   "metadata": {},
   "outputs": [],
   "source": [
    "filename = os.path.join(os.path.abspath(\"\"), \"data\", \"MIS-UDG-job.json\")\n",
    "\n",
    "if not os.path.isfile(filename):\n",
    "    hw_batch = mis_udg_job.braket.aquila().run_async(shots=100)\n",
    "    save(hw_batch, filename)"
   ]
  },
  {
   "cell_type": "code",
   "execution_count": null,
   "id": "abd62f80-aa71-4dfe-b6ed-2381b8e1fef4",
   "metadata": {},
   "outputs": [],
   "source": [
    "batch = load(filename)\n",
    "# batch.fetch()\n",
    "# save(filename, batch)"
   ]
  },
  {
   "cell_type": "code",
   "execution_count": null,
   "id": "e051e4cc-517c-4bea-8af8-9e8697658dae",
   "metadata": {},
   "outputs": [],
   "source": [
    "report = batch.report()\n",
    "\n",
    "average_rydberg_excitation = report.rydberg_densities(filter_perfect_filling=False).sum(\n",
    "    axis=1\n",
    ")\n",
    "final_detunings = report.list_param(\"final_detuning\")\n",
    "\n",
    "plt.plot(final_detunings, average_rydberg_excitation, color=\"#6437FF\")\n",
    "plt.xlabel(\"final detuning (rad/µs)\")\n",
    "plt.ylabel(\"total rydberg excitations\")\n",
    "plt.show()"
   ]
  }
 ],
 "metadata": {
  "kernelspec": {
   "display_name": "Python 3 (ipykernel)",
   "language": "python",
   "name": "python3"
  },
  "language_info": {
   "codemirror_mode": {
    "name": "ipython",
    "version": 3
   },
   "file_extension": ".py",
   "mimetype": "text/x-python",
   "name": "python",
   "nbconvert_exporter": "python",
   "pygments_lexer": "ipython3",
   "version": "3.11.6"
  }
 },
 "nbformat": 4,
 "nbformat_minor": 5
}
